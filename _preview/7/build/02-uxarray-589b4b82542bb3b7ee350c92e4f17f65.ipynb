{
 "cells": [
  {
   "cell_type": "markdown",
   "id": "14295ca317ab41c1",
   "metadata": {},
   "source": [
    "<img src=\"https://raw.githubusercontent.com/UXARRAY/uxarray/main/docs/_static/images/logos/uxarray_logo_h_dark.svg\"\n",
    "     width=\"30%\"\n",
    "     alt=\"HEALPix logo\"\n",
    "     align=\"right\"\n",
    "/>\n",
    "\n",
    "# UXarray for Basic HEALPix Statistics & Visualization\n",
    "\n",
    "### In this section, you'll learn:\n",
    "\n",
    "* Utilizing `intake` to open a HEALPix data catalog\n",
    "* Using the `uxarray` package to look at basic statistics over HEALPix data\n",
    "* Using UXarray plotting functionality on HEALPix data\n",
    "\n",
    "### Related Documentation\n",
    "\n",
    "* [UXarray homepage](https://uxarray.readthedocs.io/en/latest/index.html)\n",
    "* [Working with HEALPix data - UXarray documentation](https://uxarray.readthedocs.io/en/latest/user-guide/healpix.html)\n",
    "* [UXarray overview - Unstructured Grids Visualization Cookbook](https://projectpythia.org/unstructured-grid-viz-cookbook/notebooks/02-intro-to-uxarray/overview.html)\n",
    "* [Data visualization with UXarray - Unstructured Grids Visualization Cookbook](https://projectpythia.org/unstructured-grid-viz-cookbook/notebooks/03-plotting-with-uxarray/data-viz.html)\n",
    "* [Subsetting - UXarray documentation](https://uxarray.readthedocs.io/en/latest/user-guide/subset.html)\n",
    "* [Intake Cookbook](https://projectpythia.org/intake-cookbook/README.html)\n",
    "\n",
    "### Prerequisites\n",
    "\n",
    "| Concepts | Importance | Notes |\n",
    "| --- | --- | --- |\n",
    "| [UXarray](https://uxarray.readthedocs.io/en/latest/index.html) | Necessary  | |\n",
    "| [HEALPix overview](00-healpix) | Necessary  | |\n",
    "\n",
    "**Time to learn**: 30 minutes\n",
    "\n",
    "-----"
   ]
  },
  {
   "cell_type": "code",
   "execution_count": null,
   "id": "6e81ff15-693b-4200-9b11-55eac7920c19",
   "metadata": {},
   "outputs": [],
   "source": [
    "import cartopy.crs as ccrs\n",
    "import uxarray as ux"
   ]
  },
  {
   "cell_type": "markdown",
   "id": "77da83b7-ebba-4226-b974-77ab839e1cca",
   "metadata": {},
   "source": [
    "## Open data catalog"
   ]
  },
  {
   "cell_type": "markdown",
   "id": "d6685272-9334-48bf-99f1-97c23ed3589c",
   "metadata": {},
   "source": [
    ":::{note}\n",
    "\n",
    "If you think that you first need to learn about Intake, Pythia's [Intake Cookbook](https://projectpythia.org/intake-cookbook/README.html) is a great resource to do so.\n",
    "\n",
    ":::"
   ]
  },
  {
   "cell_type": "markdown",
   "id": "adc86648-d988-412d-b4d2-3fe5c6ccaec1",
   "metadata": {},
   "source": [
    "Let us use the online data catalog from the WCRP's Digital Earths Global Hackathon 2025's [catalog repository](https://github.com/digital-earths-global-hackathon/catalog) using `intake` and read the output of the `ICON` simulation run `ngc4008`, which is stored in the HEALPix format:"
   ]
  },
  {
   "metadata": {},
   "cell_type": "markdown",
   "source": [
    ":::{note}\n",
    "\n",
    "This section uses the same data and will showcase similar operations as the [previous section](01-easygems), e.g. basic statistics and global and regional data plotting, except at the end where further grid exploration methods will be demonstrated.\n",
    "\n",
    ":::"
   ],
   "id": "43b5864439f42f8"
  },
  {
   "metadata": {},
   "cell_type": "code",
   "outputs": [],
   "execution_count": null,
   "source": [
    "import intake\n",
    "\n",
    "# Hackathon data catalogs\n",
    "cat_url = \"https://digital-earths-global-hackathon.github.io/catalog/catalog.yaml\"\n",
    "cat = intake.open_catalog(cat_url).online\n",
    "model_run = cat.icon_ngc4008"
   ],
   "id": "7fa9549bd0fa5ff5"
  },
  {
   "cell_type": "markdown",
   "id": "5fad8464-1e4c-47c0-8485-a3fef09d0e72",
   "metadata": {},
   "source": [
    "We will be looking at two resolution levels, one is the coarsest zoom level of 0, which is the default in this model run, and the other is a finer one at the zoom level of 7:"
   ]
  },
  {
   "cell_type": "code",
   "execution_count": null,
   "id": "a82f31db-682f-4d80-b12a-9083d86ab144",
   "metadata": {},
   "outputs": [],
   "source": [
    "ds_coarsest = model_run().to_dask()\n",
    "ds_fine = model_run(zoom=7).to_dask()"
   ]
  },
  {
   "cell_type": "markdown",
   "id": "df5820af-cc5f-435f-a0cb-8178d3d07df8",
   "metadata": {},
   "source": [
    "### Create UXarray Datasets from HEALPix\n",
    "\n",
    "Now let us use those `xarray.Dataset`s from the model run to open unstructured grid-aware `uxarray.UxDataset`:"
   ]
  },
  {
   "cell_type": "code",
   "execution_count": null,
   "id": "2af24f78-d248-49f6-bc4f-f48685fb9342",
   "metadata": {},
   "outputs": [],
   "source": [
    "%%time\n",
    "uxds_coarsest = ux.UxDataset.from_healpix(ds_coarsest)\n",
    "\n",
    "uxds_fine = ux.UxDataset.from_healpix(ds_fine)\n",
    "uxds_fine"
   ]
  },
  {
   "cell_type": "markdown",
   "id": "42b3e8c5-a125-4237-b89f-94c76a07e704",
   "metadata": {},
   "source": [
    "## HEALPix basic stats using UXarray"
   ]
  },
  {
   "cell_type": "markdown",
   "id": "223d063d-3ba1-4267-8c8d-fc21a73a5359",
   "metadata": {},
   "source": [
    "Let us look at the global and Boulder, CO, USA air temperature averages for the dataset. Data spans from 2020 to 2050, so let us also consider slicing it to have a 3-year interval between 2020 and 2023, which would also give us similar results to that with easy.gems in the [previous section](01-easygems)."
   ]
  },
  {
   "cell_type": "code",
   "execution_count": null,
   "id": "89c71ea7-6ea7-401e-b96e-b6c166799595",
   "metadata": {},
   "outputs": [],
   "source": [
    "import matplotlib.pylab as plt\n",
    "\n",
    "boulder_lon = -105.2747\n",
    "boulder_lat = 40.0190\n",
    "\n",
    "time_slice = slice(\"2020-01-02T00:00:00.000000000\", \"2023-01-01T00:00:00.000000000\")"
   ]
  },
  {
   "cell_type": "markdown",
   "id": "d8e60b50-518c-4b2f-9e54-03f597859b45",
   "metadata": {},
   "source": [
    "### Mesh face containing Boulder's coords\n",
    "\n",
    "We can find face(s) containing a given point with `uxarray` conveniently as follows:"
   ]
  },
  {
   "cell_type": "code",
   "execution_count": null,
   "id": "047a7f2f-6ae8-4728-80ec-44168019970b",
   "metadata": {},
   "outputs": [],
   "source": [
    "%%time\n",
    "boulder_face = uxds_fine.uxgrid.get_faces_containing_point(\n",
    "    point_lonlat=[boulder_lon, boulder_lat]\n",
    ")"
   ]
  },
  {
   "cell_type": "markdown",
   "id": "990c37aa-0a1d-4dc6-904a-1d7e2ea52a00",
   "metadata": {},
   "source": [
    "### Data variables of interest\n",
    "\n",
    "In order to use in the rest of the analyses, we can grab data variables, in the`uxarray.UxDataArray` type, from the dataset as follows:"
   ]
  },
  {
   "cell_type": "code",
   "execution_count": null,
   "id": "b5873521-71c0-44fe-b76f-c30b0a7997a5",
   "metadata": {},
   "outputs": [],
   "source": [
    "uxda_fine = uxds_fine.tas\n",
    "uxda_coarsest = uxds_coarsest.tas"
   ]
  },
  {
   "cell_type": "markdown",
   "id": "68ceb605-889d-49b2-bc12-92bde0fd060a",
   "metadata": {},
   "source": [
    "### Global and Boulder's temperature averages"
   ]
  },
  {
   "cell_type": "markdown",
   "id": "02b4cb49-b7f8-4584-a89e-308c6540e7b2",
   "metadata": {},
   "source": [
    "In order to get a line plot of our `UXarray.UxDataset` objects' 1-dimensional temperature variables, we will convert them to `xarray` and call the default `plot` function because UXarray's default plotting functions are all dedicated to grid-topology aware visualizations:"
   ]
  },
  {
   "cell_type": "code",
   "execution_count": null,
   "id": "22e26cad-1a9f-41ec-ba00-fb47600f4f63",
   "metadata": {},
   "outputs": [],
   "source": [
    "%%time\n",
    "uxda_fine.isel(n_face=boulder_face).sel(time=time_slice).to_xarray().plot(\n",
    "    label=\"Boulder\"\n",
    ")\n",
    "uxda_coarsest.sel(time=time_slice).mean(\"n_face\").to_xarray().plot(label=\"Global mean\")\n",
    "\n",
    "plt.legend()"
   ]
  },
  {
   "cell_type": "markdown",
   "id": "db752886-ed85-43b3-89ad-4893f8469cd3",
   "metadata": {},
   "source": [
    "## Data plotting with UXarray"
   ]
  },
  {
   "cell_type": "markdown",
   "id": "d6d1af5f-9149-45c5-81de-2adcb5e7840f",
   "metadata": {},
   "source": [
    "UXarray provides several built-in plotting functions to visualize unstructured grids, which can also be applied to HEALPix grids in the same interface:"
   ]
  },
  {
   "cell_type": "markdown",
   "id": "c6a0646e-a408-4582-a8cf-8840988ea01e",
   "metadata": {},
   "source": [
    "Let us first look into interactive plots with the `bokeh` backend (i.e. UXarray's plotting functions have a `backend` parameter that defaults to \"bokeh\", and it can also accept \"matplotlib\")"
   ]
  },
  {
   "cell_type": "markdown",
   "id": "31091104-2925-4222-b86b-33843b48a9a6",
   "metadata": {},
   "source": [
    "### Global plots"
   ]
  },
  {
   "cell_type": "markdown",
   "id": "b2aee658-7b5c-4d80-b22b-7d5796c408dc",
   "metadata": {},
   "source": [
    "Let us first plot the global temperature (at the first timestep for simplicity), using the default backend, `bokeh`, of UXarray's visualization API to create an interactive plot:"
   ]
  },
  {
   "cell_type": "code",
   "execution_count": null,
   "id": "cc0cad5e-9059-4d37-957d-cca8592a2a89",
   "metadata": {},
   "outputs": [],
   "source": [
    "%%time\n",
    "\n",
    "projection = ccrs.Robinson(central_longitude=-135.5808361)\n",
    "\n",
    "uxda_fine.isel(time=0).plot(\n",
    "    projection=projection,\n",
    "    cmap=\"inferno\",\n",
    "    features=[\"borders\", \"coastline\"],\n",
    "    title=\"Global temperature\",\n",
    "    width=700,\n",
    ")"
   ]
  },
  {
   "cell_type": "markdown",
   "id": "dd5e2264-a6c6-47d1-87aa-9f84b807eca2",
   "metadata": {},
   "source": [
    "Now, let us create the same plot, using `matplotlib` as the backend:"
   ]
  },
  {
   "cell_type": "code",
   "execution_count": null,
   "id": "6266bc77-df02-4623-9a88-3f29c4497ce2",
   "metadata": {},
   "outputs": [],
   "source": [
    "%%time\n",
    "\n",
    "uxda_fine.isel(time=0).plot(\n",
    "    backend=\"matplotlib\",\n",
    "    projection=projection,\n",
    "    cmap=\"inferno\",\n",
    "    features=[\"borders\", \"coastline\"],\n",
    "    title=\"Global temperature\",\n",
    "    width=1100,\n",
    ")"
   ]
  },
  {
   "cell_type": "markdown",
   "id": "b349e881-ea3b-4583-ae0a-b06c7bd6cb8a",
   "metadata": {},
   "source": [
    "### Regional subsets (Not only for plotting but also for analysis)"
   ]
  },
  {
   "cell_type": "markdown",
   "id": "8e134929-163e-40b5-b7cf-9fbe2ef2c295",
   "metadata": {},
   "source": [
    "When a region on the globe is of interest, UXarray provides subsetting functions, which return new regional grids that can then be used in the same way a global grid is plotted. \n",
    "\n",
    "Let us look into the USA map using the Boulder, CO, USA coords we had used before for simplicity:"
   ]
  },
  {
   "cell_type": "markdown",
   "id": "c2a7650d-93a1-477c-8284-d0f8aed3063a",
   "metadata": {},
   "source": [
    "Subsetting `uxds_fine` into a new `UxDataset` using a \"bounding box\" around Boulder, CO first:"
   ]
  },
  {
   "cell_type": "code",
   "execution_count": null,
   "id": "c2005139-d0f3-4523-aea4-741167e86ef0",
   "metadata": {},
   "outputs": [],
   "source": [
    "%%time\n",
    "\n",
    "lon_bounds = (boulder_lon - 20, boulder_lon + 40)\n",
    "lat_bounds = (boulder_lat - 20, boulder_lat + 12)\n",
    "\n",
    "uxda_fine_subset = uxda_fine.isel(time=0).subset.bounding_box(lon_bounds, lat_bounds)"
   ]
  },
  {
   "cell_type": "markdown",
   "id": "d2445b2d-4a91-4ef4-8e5c-d96058aab020",
   "metadata": {},
   "source": [
    "If we check the global and regional subset's average temperature at the first timestep, we can see the difference:"
   ]
  },
  {
   "cell_type": "code",
   "execution_count": null,
   "id": "22b9aff5-bd74-4e29-9d12-f5b464829421",
   "metadata": {},
   "outputs": [],
   "source": [
    "print(\n",
    "    \"Global temperature average: \", uxda_fine.isel(time=0).mean(\"n_face\").values, \" K\"\n",
    ")\n",
    "print(\n",
    "    \"Regional subset's temperature average: \", uxda_fine_subset.mean(\"n_face\").values, \" K\"\n",
    ")"
   ]
  },
  {
   "cell_type": "markdown",
   "id": "3ce21cc1-5f1e-4497-ab4c-0398eef16fca",
   "metadata": {},
   "source": [
    "Now, let us plot the regional subset `UxDataset`:"
   ]
  },
  {
   "cell_type": "code",
   "execution_count": null,
   "id": "752682c4-b08c-4d7c-9260-150bb510a838",
   "metadata": {},
   "outputs": [],
   "source": [
    "%%time\n",
    "projection = ccrs.Robinson(central_longitude=boulder_lon)\n",
    "\n",
    "uxda_fine_subset.plot(\n",
    "    projection=projection,\n",
    "    cmap=\"inferno\",\n",
    "    features=[\"borders\", \"coastline\"],\n",
    "    title=\"Boulder temperature\",\n",
    "    width=1100,\n",
    ")"
   ]
  },
  {
   "cell_type": "markdown",
   "id": "6bdb0734-d47f-46e7-b45f-2bb1a2cdaa65",
   "metadata": {},
   "source": [
    "## Grid topology exploration"
   ]
  },
  {
   "cell_type": "markdown",
   "id": "3e7524b5-4c09-46ff-8571-19087747d1f4",
   "metadata": {},
   "source": [
    "Exploring the grid topology may be needed sometimes, and UXarray provides functionality to do so, both numerically and visually. Each `UxDataset` or `UxDataArray` has their associated `Grid` object that has all the information such as spherical and cartesian coordinates, connectives, dimensions, etc. about the topology this data belongs to. This `Grid` object can be explored as follows:"
   ]
  },
  {
   "cell_type": "code",
   "execution_count": null,
   "id": "47829760-2203-48d3-b83b-6f4801b7ab63",
   "metadata": {},
   "outputs": [],
   "source": [
    "# uxds_fine.uxgrid   # this would give the same as the below\n",
    "uxda_fine.uxgrid"
   ]
  },
  {
   "cell_type": "markdown",
   "id": "9f1e77a4-787b-4ffc-ad01-e61fcf5674da",
   "metadata": {},
   "source": [
    "There might be times that the user wants to open a standalone `Grid` object for a HEALPix grid (or any other unstructured grids supported by UXarray) without accessing the data yet. Let's create the coarsest HEALPix grid as follows:"
   ]
  },
  {
   "cell_type": "code",
   "execution_count": null,
   "id": "f271da02-7293-40e0-a989-608d49529269",
   "metadata": {},
   "outputs": [],
   "source": [
    "uxgrid = ux.Grid.from_healpix(zoom=0, pixels_only=False)\n",
    "uxgrid"
   ]
  },
  {
   "cell_type": "markdown",
   "id": "1f0dac1c1783efbf",
   "metadata": {},
   "source": [
    "Let's investigate how a HEALPix grid looks like over the poles. We can do things by selecting an Orthographic projection and setting a Geodetic source projection. This allows to better approximates the true HEALPix structured compared to the defaut PlateCaree projection.\n"
   ]
  },
  {
   "cell_type": "code",
   "execution_count": null,
   "id": "727f7fab-1c50-4903-85d1-fdcfa9c8b817",
   "metadata": {},
   "outputs": [],
   "source": [
    "projection = ccrs.Orthographic(central_latitude=90)\n",
    "projection.threshold /= 100  # Smoothes out great circle arcs\n",
    "\n",
    "uxgrid.plot(\n",
    "    periodic_elements=\"ignore\",  # Allow Cartopy to handle periodic elements\n",
    "    crs=ccrs.Geodetic(),  # Enables edges to be plotted as GCAs\n",
    "    project=True,\n",
    "    projection=projection,\n",
    "    width=500,\n",
    "    title=\"HEALPix (Orthographic Proj), zoom=0\",\n",
    ")"
   ]
  },
  {
   "cell_type": "markdown",
   "id": "abf8822fd78ebb64",
   "metadata": {},
   "source": [
    "Let's chose another projection."
   ]
  },
  {
   "cell_type": "code",
   "execution_count": null,
   "id": "e018898935ea98f2",
   "metadata": {},
   "outputs": [],
   "source": [
    "projection = ccrs.Mollweide()\n",
    "projection.threshold /= 100  # Smoothes out great circle arcs\n",
    "\n",
    "uxgrid.plot(\n",
    "    periodic_elements=\"ignore\",  # Allow Cartopy to handle periodic elements\n",
    "    crs=ccrs.Geodetic(),  # Enables edges to be plotted as GCAs\n",
    "    project=True,\n",
    "    projection=projection,\n",
    "    width=500,\n",
    "    title=\"HEALPix (Mollweide Proj), zoom=0\",\n",
    ")"
   ]
  },
  {
   "cell_type": "markdown",
   "id": "b77244e6963d9d4b",
   "metadata": {},
   "source": [
    "The grid structure here is approximated. While the boundary between each pixel is easily known in HEALPix workflows, UXarray represents the boundaries as a Great Circle Arc (GCA) due to the requirement of having explicit connectivity information, which is different than HEALPix boundaries and leads to minor differences in the computed plots and computations."
   ]
  },
  {
   "cell_type": "markdown",
   "id": "2d5cda13338d20e6",
   "metadata": {},
   "source": [
    "Now that we've looked at the grid structure, we can also apply the same principles to our data plotting.\n"
   ]
  },
  {
   "cell_type": "markdown",
   "id": "81eb160e91069d66",
   "metadata": {},
   "source": [
    ":::{warning}\n",
    "\n",
    "Using the Geodetic source projection is not reccomended for higher-resolution grids, as it introduces a significant overhead.\n",
    "\n",
    ":::"
   ]
  },
  {
   "cell_type": "code",
   "execution_count": null,
   "id": "b80777a569fa74ce",
   "metadata": {},
   "outputs": [],
   "source": [
    "uxda_coarsest.isel(time=0).plot(\n",
    "    periodic_elements=\"ignore\",  # Allow Cartopy to handle periodic elements\n",
    "    crs=ccrs.Geodetic(),  # Enables edges to be plotted as GCAs\n",
    "    project=True,\n",
    "    projection=projection,\n",
    "    features=[\"borders\", \"coastline\"],\n",
    "    cmap=\"inferno\",\n",
    "    title=\"Temperature (Mollweide Proj), zoom=0\",\n",
    "    width=500,\n",
    ")"
   ]
  },
  {
   "cell_type": "markdown",
   "id": "096efd28-a5c6-49c6-9a42-596afde1119f",
   "metadata": {},
   "source": [
    "## What is next?\n",
    "\n",
    "The [next section](03-uxarray-advanced) will provide an UXarray workflow that loads in and analyzes & visualizes HEALPix data."
   ]
  }
 ],
 "metadata": {
  "kernelspec": {
   "display_name": "Python 3 (ipykernel)",
   "language": "python",
   "name": "python3"
  },
  "language_info": {
   "codemirror_mode": {
    "name": "ipython",
    "version": 3
   },
   "file_extension": ".py",
   "mimetype": "text/x-python",
   "name": "python",
   "nbconvert_exporter": "python",
   "pygments_lexer": "ipython3",
   "version": "3.10.13"
  }
 },
 "nbformat": 4,
 "nbformat_minor": 5
}
