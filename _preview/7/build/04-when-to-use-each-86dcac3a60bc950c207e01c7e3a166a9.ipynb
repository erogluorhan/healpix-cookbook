{
 "cells": [
  {
   "cell_type": "markdown",
   "id": "aebd512853cffa1b",
   "metadata": {},
   "source": [
    "# When to Use Each?\n"
   ]
  },
  {
   "cell_type": "markdown",
   "id": "1094d494-8b3c-44f6-84b0-1c43919e0396",
   "metadata": {},
   "source": [
    "This section is under construction. Please revisit soon!"
   ]
  }
 ],
 "metadata": {
  "kernelspec": {
   "display_name": "Python 3 (ipykernel)",
   "language": "python",
   "name": "python3"
  },
  "language_info": {
   "codemirror_mode": {
    "name": "ipython",
    "version": 3
   },
   "file_extension": ".py",
   "mimetype": "text/x-python",
   "name": "python",
   "nbconvert_exporter": "python",
   "pygments_lexer": "ipython3",
   "version": "3.10.13"
  }
 },
 "nbformat": 4,
 "nbformat_minor": 5
}
