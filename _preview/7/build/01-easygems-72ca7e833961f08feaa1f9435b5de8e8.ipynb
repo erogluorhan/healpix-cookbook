{
 "cells": [
  {
   "cell_type": "markdown",
   "id": "ed008a12-a1f7-4f09-9326-a616f65d5be7",
   "metadata": {},
   "source": [
    "<img src=\"https://easy.gems.dkrz.de/_images/landing-page-banner.png\"\n",
    "     width=\"30%\"\n",
    "     alt=\"HEALPix logo\"\n",
    "     align=\"right\"\n",
    "/>\n",
    "\n",
    "# easy.gems for HEALPix Analysis & Visualization\n",
    "\n",
    "### In this section, you'll learn:\n",
    "\n",
    "* Utilizing intake to open a HEALPix data catalog\n",
    "* Using the `healpix` package to perform HEALPix operations to look at basic statistics\n",
    "* Plotting HEALPix data via easy.gems functionality\n",
    "\n",
    "### Related Documentation\n",
    "\n",
    "* [Getting started with hierarchical HEALPix data - easy.gems Documentation](https://easy.gems.dkrz.de/Processing/healpix/healpix_starter.html#)\n",
    "* [Plotting with cartopy - easy.gems Documentation](https://easy.gems.dkrz.de/Processing/healpix/healpix_cartopy.html)\n",
    "* [Intake Cookbook](https://projectpythia.org/intake-cookbook/README.html)\n",
    "\n",
    "### Prerequisites\n",
    "\n",
    "| Concepts | Importance | Notes |\n",
    "| --- | --- | --- |\n",
    "| [HEALPix overview](00-healpix) | Necessary  | |\n",
    "\n",
    "**Time to learn**: 30 minutes\n",
    "\n",
    "-----"
   ]
  },
  {
   "cell_type": "markdown",
   "id": "ba4dae58-0ccc-468a-b2f4-6690f16ddb2e",
   "metadata": {},
   "source": [
    "## Open data catalog"
   ]
  },
  {
   "cell_type": "markdown",
   "id": "989f92f5f056e2a3",
   "metadata": {},
   "source": [
    ":::{note}\n",
    "\n",
    "If you think that you first need to learn about Intake, Pythia's [Intake Cookbook](https://projectpythia.org/intake-cookbook/README.html) is a great resource to do so.\n",
    "\n",
    ":::"
   ]
  },
  {
   "cell_type": "markdown",
   "id": "ece42a84ee286297",
   "metadata": {},
   "source": [
    "Let us use the online data catalog from the WCRP's Digital Earths Global Hackathon 2025's [catalog repository](https://github.com/digital-earths-global-hackathon/catalog) using `intake` and read the output of the `ICON` simulation run `ngc4008`, which is stored in the HEALPix format:"
   ]
  },
  {
   "cell_type": "code",
   "execution_count": null,
   "id": "5fd1144eeefdd5e8",
   "metadata": {},
   "outputs": [],
   "source": [
    "import intake\n",
    "\n",
    "# Hackathon data catalogs\n",
    "cat_url = \"https://digital-earths-global-hackathon.github.io/catalog/catalog.yaml\"\n",
    "cat = intake.open_catalog(cat_url).online\n",
    "model_run = cat.icon_ngc4008"
   ]
  },
  {
   "cell_type": "markdown",
   "id": "2e833a04-7370-4276-8661-b5fb26007c53",
   "metadata": {},
   "source": [
    ":::{note}\n",
    "\n",
    "We highly recommend checking out the [easy.gems documentation on HEALPix data catalogs](https://easy.gems.dkrz.de/Processing/healpix/healpix_starter.html#the-catalog) to understand the `zoom` and `time` parametrization of the model runs in the catalogs. In short, each model run has an independent `Dataset` for each combination of the `zoom` and `time` parameters as depicted below (image credit [easy.gems documentation on HEALPix data catalogs](https://easy.gems.dkrz.de/Processing/healpix/healpix_starterhtml#the-catalog), and \"PT30M\" in this figure should be \"PT15M\", 15 minutes, for the hackathon data we are using here)\n",
    "\n",
    ":::"
   ]
  },
  {
   "cell_type": "markdown",
   "id": "240a5818-d487-4cd5-9324-c42e7623067f",
   "metadata": {},
   "source": [
    "<img src=\"https://easy.gems.dkrz.de/_images/ds_hierarchy.png\"\n",
    "     width=600\n",
    "     alt=\"Matplotlib Logo\"\n",
    "/>"
   ]
  },
  {
   "cell_type": "markdown",
   "id": "80b30330-6880-471e-b647-c20ba2bce9ed",
   "metadata": {},
   "source": [
    "## Explore datasets"
   ]
  },
  {
   "cell_type": "markdown",
   "id": "c7c1ec7f-11f9-488c-a540-c4ad2c29727d",
   "metadata": {},
   "source": [
    "So, the coarsest dataset in this model run would be as follows (Even if we called it without specifying any parameters, i.e. `model_run.to_dask()`, the result would be same as the `ds_coarsest` below since this model run defaults to the coarsest settings):"
   ]
  },
  {
   "cell_type": "code",
   "execution_count": null,
   "id": "d484f09a-92e2-46f0-ada5-7604af44f84f",
   "metadata": {},
   "outputs": [],
   "source": [
    "ds_coarsest = model_run(zoom=0, time=\"P1D\").to_dask()\n",
    "ds_coarsest"
   ]
  },
  {
   "cell_type": "markdown",
   "id": "d22c6185-1438-4e00-9ecd-605a1c149760",
   "metadata": {},
   "source": [
    "Now, let us look at a dataset with finer zoom level still with the coarsest time and another dataset with a finer zoom level and the finest time (which may be useful for daily analyses) dataset:"
   ]
  },
  {
   "cell_type": "code",
   "execution_count": null,
   "id": "cc1832fa-a4bf-4523-884a-bac0da9a9baa",
   "metadata": {
    "scrolled": true
   },
   "outputs": [],
   "source": [
    "ds_fine = model_run(zoom=7).to_dask()\n",
    "ds_fine"
   ]
  },
  {
   "cell_type": "code",
   "execution_count": null,
   "id": "81568852-da78-4263-8598-a6ca5d059641",
   "metadata": {},
   "outputs": [],
   "source": [
    "ds_finesttime = model_run(zoom=6, time=\"PT15M\").to_dask()\n",
    "ds_finesttime"
   ]
  },
  {
   "cell_type": "markdown",
   "id": "9bce599e-9136-4d67-bb2b-dcd7516ae294",
   "metadata": {},
   "source": [
    "## HEALPix basic stats with the`healpix` package"
   ]
  },
  {
   "cell_type": "markdown",
   "id": "73ac29d5-73cb-49ac-99dd-9e8a285cbfa0",
   "metadata": {},
   "source": [
    "Let us look at the global and Boulder, CO, USA temperature averages for a 3-year time-slice of the whole dataset. \n",
    "\n",
    "For this, we will first need to define a few HEALPix helper functions to get the `nest` and `nside` values from the dataset, then find the HEALPix pixel that Boulder coords fall in, and finally plot those temporal averages using `matplotlib`."
   ]
  },
  {
   "cell_type": "code",
   "execution_count": null,
   "id": "87c14340-df50-4aeb-a8ea-54a77cf807d0",
   "metadata": {},
   "outputs": [],
   "source": [
    "import healpix as hp\n",
    "import matplotlib.pylab as plt"
   ]
  },
  {
   "cell_type": "markdown",
   "id": "7df62b75-03d2-4d2f-a865-81c563ef0f3a",
   "metadata": {},
   "source": [
    "### HEALPix helper functions"
   ]
  },
  {
   "cell_type": "code",
   "execution_count": null,
   "id": "62e33cb2-0468-4891-8a0f-bbcfa9d900bf",
   "metadata": {},
   "outputs": [],
   "source": [
    "def get_nest(ds):\n",
    "    return ds.crs.healpix_order == \"nest\"\n",
    "    \n",
    "def get_nside(ds):\n",
    "    return ds.crs.healpix_nside"
   ]
  },
  {
   "cell_type": "markdown",
   "id": "2d15db69-823a-433a-b533-e47f85405753",
   "metadata": {},
   "source": [
    "### HEALPix pixel containing Boulder's coords"
   ]
  },
  {
   "cell_type": "code",
   "execution_count": null,
   "id": "7915b6fc-2310-4b73-bc02-fd449e72be19",
   "metadata": {},
   "outputs": [],
   "source": [
    "%%time\n",
    "boulder_lon = -105.2747\n",
    "boulder_lat = 40.0190\n",
    "\n",
    "boulder_pixel = hp.ang2pix(\n",
    "    get_nside(ds_fine), boulder_lon, boulder_lat, lonlat=True, nest=get_nest(ds_fine)\n",
    ")"
   ]
  },
  {
   "cell_type": "markdown",
   "id": "58ffe1cc-b1a9-47d5-9807-f5dcdbf14bd2",
   "metadata": {},
   "source": [
    "### Global and Boulder's temperature averages"
   ]
  },
  {
   "cell_type": "code",
   "execution_count": null,
   "id": "ffbf22ca-d7fb-48f9-83a7-4867fd376501",
   "metadata": {},
   "outputs": [],
   "source": [
    "%%time\n",
    "time_slice = slice(\"2020-01-02T00:00:00.000000000\", \"2023-01-01T00:00:00.000000000\")\n",
    "\n",
    "ds_fine.tas.sel(time=time_slice).isel(cell=boulder_pixel).plot(label=\"Boulder\")\n",
    "\n",
    "ds_coarsest.tas.sel(time=time_slice).mean(\"cell\").plot(label=\"Global mean\")\n",
    "\n",
    "plt.legend()"
   ]
  },
  {
   "cell_type": "markdown",
   "id": "7035aef4-2f31-40a2-9158-2e072778e8a6",
   "metadata": {},
   "source": [
    "## Plotting with easy.gems and cartopy"
   ]
  },
  {
   "cell_type": "markdown",
   "id": "acb79865-7b03-46b3-b3ff-de31e82857fe",
   "metadata": {},
   "source": [
    " In this part, we will look at the ` healpix_show` function that is provided by `easy.gems` for convenient HEALPix plotting."
   ]
  },
  {
   "cell_type": "code",
   "execution_count": null,
   "id": "80fa2c8f-27fc-498e-b891-1d8c8f47e234",
   "metadata": {},
   "outputs": [],
   "source": [
    "import easygems.healpix as eghp\n",
    "\n",
    "import cartopy.crs as ccrs\n",
    "import cartopy.feature as cf\n",
    "import cmocean"
   ]
  },
  {
   "cell_type": "markdown",
   "id": "4905aaed-5569-4b61-aa27-f575e15c6840",
   "metadata": {},
   "source": [
    "### Global plots"
   ]
  },
  {
   "cell_type": "markdown",
   "id": "a5f52289-a114-4fa2-9352-df431787141b",
   "metadata": {},
   "source": [
    "Most of this is `matplotlib` and `cartopy` code, but have a look at how `eghp.healpix_show()` is called. The following code will plot global temperature (at the first timestep for simplicity)"
   ]
  },
  {
   "cell_type": "code",
   "execution_count": null,
   "id": "4aaa4e21-259f-460c-9fb8-f191d5e1d4ef",
   "metadata": {},
   "outputs": [],
   "source": [
    "projection = ccrs.Robinson(central_longitude=-135.5808361)\n",
    "\n",
    "fig, ax = plt.subplots(\n",
    "    figsize=(8, 4), subplot_kw={\"projection\": projection}, constrained_layout=True\n",
    ")\n",
    "\n",
    "ax.set_global()\n",
    "\n",
    "eghp.healpix_show(ds_fine.tas.isel(time=0), ax=ax, cmap=cmocean.cm.thermal)\n",
    "\n",
    "ax.add_feature(cf.COASTLINE, linewidth=0.8)\n",
    "ax.add_feature(cf.BORDERS, linewidth=0.4)"
   ]
  },
  {
   "cell_type": "markdown",
   "id": "7cecfaa0-6530-4c0e-9782-d0caac1700a0",
   "metadata": {},
   "source": [
    "### Regional plots"
   ]
  },
  {
   "cell_type": "markdown",
   "id": "5bfc4413-4b8d-4ecf-8fde-9a7471f6357c",
   "metadata": {},
   "source": [
    "If plotting a region of interest is desired, it is also possible through setting extents of the `matplotlib` plot. \n",
    "\n",
    "Let us look into USA map using the Boulder, CO, USA coords we had used before for simplicity:"
   ]
  },
  {
   "cell_type": "code",
   "execution_count": null,
   "id": "14496796-b602-47f6-921c-2b5549bf53a6",
   "metadata": {},
   "outputs": [],
   "source": [
    "projection = ccrs.Robinson(central_longitude=boulder_lon)\n",
    "\n",
    "fig, ax = plt.subplots(\n",
    "    figsize=(8, 4), subplot_kw={\"projection\": projection}, constrained_layout=True\n",
    ")\n",
    "ax.set_extent([boulder_lon-20, boulder_lon+40, boulder_lat-20, boulder_lat+10], crs=ccrs.PlateCarree())\n",
    "\n",
    "eghp.healpix_show(ds_fine.tas.isel(time=0), ax=ax, cmap=cmocean.cm.thermal)\n",
    "\n",
    "ax.add_feature(cf.COASTLINE, linewidth=0.8)\n",
    "ax.add_feature(cf.BORDERS, linewidth=0.4)"
   ]
  },
  {
   "cell_type": "markdown",
   "id": "2d5dc718-87a1-46e5-b1ba-76b6ca7f67cc",
   "metadata": {},
   "source": [
    "## Further `easy.gems` and `healpix`"
   ]
  },
  {
   "cell_type": "markdown",
   "id": "37384c1c-4d01-4473-875b-59e82c391fec",
   "metadata": {},
   "source": [
    "These are only a sampling of HEALPix and easy.gems capabilities; if you are interested in learning more, be sure to check out the usage examples at the [easy.gems HEALPix Documentation](https://easy.gems.dkrz.de/Processing/healpix/index.html#)."
   ]
  },
  {
   "cell_type": "markdown",
   "id": "6a78d459-2416-47c3-b0a1-acfa536e4746",
   "metadata": {},
   "source": [
    "## What is next?\n",
    "\n",
    "The [next section](02-uxarray) will provide an UXarray workflow that loads in and analyzes & visualizes HEALPix data."
   ]
  }
 ],
 "metadata": {
  "kernelspec": {
   "display_name": "Python 3 (ipykernel)",
   "language": "python",
   "name": "python3"
  },
  "language_info": {
   "codemirror_mode": {
    "name": "ipython",
    "version": 3
   },
   "file_extension": ".py",
   "mimetype": "text/x-python",
   "name": "python",
   "nbconvert_exporter": "python",
   "pygments_lexer": "ipython3",
   "version": "3.10.13"
  }
 },
 "nbformat": 4,
 "nbformat_minor": 5
}
