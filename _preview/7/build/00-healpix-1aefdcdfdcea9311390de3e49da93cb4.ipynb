{
 "cells": [
  {
   "cell_type": "markdown",
   "metadata": {},
   "source": [
    "# HEALPix Overview\n",
    "\n",
    "This first section of the cookbook aims at providing the reader with an introduction to [**H**ierarchical **E**qual **A**rea iso**L**atitude **Pix**elation (HEALPix)](https://healpix.sourceforge.io/). However, rather than duplicating tons of information that is already available at HEALPix resources, we will try guiding the Pythia's community in the right direction to access those resources.\n",
    "\n",
    "### In this section, you'll learn:\n",
    "\n",
    "* What is HEALPix?\n",
    "* What resources can lead you to learn more about HEALPix?\n",
    "* Why HEALPix?\n",
    "\n",
    "### Related Documentation\n",
    "\n",
    "* [HEALPix Homepage](https://healpix.sourceforge.io/)\n",
    "* [HEALPix Documentation](https://healpix.sourceforge.io/documentation.php)\n",
    "* [HEALPix Resources](https://healpix.sourceforge.io/resources.php)\n",
    "* [HEALPix Support](https://healpix.sourceforge.io/support.php)\n",
    "\n",
    "### Prerequisites\n",
    "\n",
    "| Concepts | Importance | Notes |\n",
    "| --- | --- | --- |\n",
    "| [Discrete Global Grid Systems](https://doi.org/10.1002/9781118786352.wbieg1050) | Helpful  | |\n",
    "\n",
    "**Time to learn**: 10 minutes\n",
    "\n",
    "-----"
   ]
  },
  {
   "cell_type": "markdown",
   "metadata": {},
   "source": [
    "## What is HEALPix?"
   ]
  },
  {
   "cell_type": "markdown",
   "metadata": {},
   "source": [
    "HEALPix is a high resolution discretization framework to provide equal area, iso-Latitude pixelation of a sphere for fast analysis of data distributed on it, which produces a subdivision of the spherical surface in which each pixel covers the same surface area as every other pixel at a given resolution level. \n",
    "\n",
    "HEALPix was originally devised to support fast and accurate mathematical calculations on a spherical discretization at sufficiently high resolution levels for satellite missions to measure the cosmic microwave background (CMB), and it has later been adopted to geoscience applications as well.\n",
    "\n",
    "Be sure to check out the [HEALPix home page](https://healpix.sourceforge.io/index.php) and the References at the end of this section for further details.\n",
    "\n",
    "<img src=\"https://healpix.sourceforge.io/images/gorski_f1.jpg\"\n",
    "     width=250\n",
    "     alt=\"Matplotlib Logo\"\n",
    "/>"
   ]
  },
  {
   "cell_type": "markdown",
   "metadata": {},
   "source": [
    "## Why HEALPix?"
   ]
  },
  {
   "cell_type": "markdown",
   "metadata": {},
   "source": [
    "Three key features of HEALPix are:\n",
    "\n",
    "* The sphere is hierarchically tessellated into curvilinear quadrilaterals\n",
    "* Areas of all pixels at a given resolution are identical\n",
    "* Pixels are distributed on lines of constant latitude\n",
    "\n",
    "These properties make HEALPix a good gridding choice to facilitate fast and accurate statistical and spherical analysis for high-resolution data such as spherical harmonics."
   ]
  },
  {
   "cell_type": "markdown",
   "metadata": {},
   "source": [
    "## Where to learn more about HEALPix?"
   ]
  },
  {
   "cell_type": "markdown",
   "metadata": {},
   "source": [
    "In addition to the [Related Documentation](related-documentation) provided in the beginning of this notebook, there are some good resources that you can further learn HEALPix through. In this part, we'd like to introduce one of them, easy.gems:"
   ]
  },
  {
   "cell_type": "markdown",
   "metadata": {},
   "source": [
    "### easy.gems\n",
    "\n",
    "[DKRZ (The German Climate Computing Center)](https://www.dkrz.de/en) created [easy.gems](https://easy.gems.dkrz.de/index.html) for documenting high-resolution climate simulation output and its analysis, which was started within the frame of the [DYAMOND intercomparison initiative](https://www.esiwace.eu/the-project/past-phases/dyamond-initiative). \n",
    "\n",
    "Since output in multiple resolutions (hierarchical) is written on the HEALPix grid in order to simplify and speed up analysis, easy.gems provides [documentation](https://easy.gems.dkrz.de/Processing/healpix/index.html#) for a range of applications such as getting started with HEALPix, using HEALPix analysis and plotting functionality on the simulation data, and performing conversions between HEALPix and other grid types.\n",
    "\n",
    "The [next section](01-easygems) will showcase an easy.gems workflow that loads in, manipulates, analyzes, and visualizes HEALpix data, which uses easy.gems functions and other scientific Python ecosystem packages' functionality recommended by easy.gems."
   ]
  },
  {
   "cell_type": "markdown",
   "metadata": {},
   "source": [
    "## References\n",
    "\n",
    "[Gorski et al. 2005 \"HEALPix: A framework for high-resolution discretization and fast analysis of data distributed on the sphere\"](https://iopscience.iop.org/article/10.1086/427976/meta)\n",
    "\n",
    "[Peterson et al. 2016 \"Discrete global grid systems\"](https://doi.org/10.1002/9781118786352.wbieg1050)"
   ]
  },
  {
   "cell_type": "markdown",
   "metadata": {},
   "source": [
    "## What is next?\n",
    "\n",
    "The [next section](01-easygems) will provide an easy.gems workflow that uses HEALPix data."
   ]
  }
 ],
 "metadata": {
  "kernelspec": {
   "display_name": "Python 3 (ipykernel)",
   "language": "python",
   "name": "python3"
  },
  "language_info": {
   "codemirror_mode": {
    "name": "ipython",
    "version": 3
   },
   "file_extension": ".py",
   "mimetype": "text/x-python",
   "name": "python",
   "nbconvert_exporter": "python",
   "pygments_lexer": "ipython3",
   "version": "3.10.13"
  },
  "nbdime-conflicts": {
   "local_diff": [
    {
     "diff": [
      {
       "diff": [
        {
         "key": 0,
         "op": "addrange",
         "valuelist": [
          "Python 3"
         ]
        },
        {
         "key": 0,
         "length": 1,
         "op": "removerange"
        }
       ],
       "key": "display_name",
       "op": "patch"
      }
     ],
     "key": "kernelspec",
     "op": "patch"
    }
   ],
   "remote_diff": [
    {
     "diff": [
      {
       "diff": [
        {
         "key": 0,
         "op": "addrange",
         "valuelist": [
          "Python3"
         ]
        },
        {
         "key": 0,
         "length": 1,
         "op": "removerange"
        }
       ],
       "key": "display_name",
       "op": "patch"
      }
     ],
     "key": "kernelspec",
     "op": "patch"
    }
   ]
  },
  "toc-autonumbering": false
 },
 "nbformat": 4,
 "nbformat_minor": 4
}
