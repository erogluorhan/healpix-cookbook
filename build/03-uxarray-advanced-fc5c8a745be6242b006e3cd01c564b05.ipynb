{
 "cells": [
  {
   "cell_type": "markdown",
   "id": "9035d95e-eba1-4741-b8b6-14a1cf69ba69",
   "metadata": {},
   "source": [
    "<img src=\"https://raw.githubusercontent.com/UXARRAY/uxarray/main/docs/_static/images/logos/uxarray_logo_h_dark.svg\"\n",
    "     width=\"30%\"\n",
    "     alt=\"HEALPix logo\"\n",
    "     align=\"right\"\n",
    "/>\n",
    "\n",
    "# UXarray for Advanced HEALPix Analysis & Visualization\n",
    "\n",
    "### In this section, you'll learn:\n",
    "\n",
    "* Using the `uxarray` package to perform advanced analysis operators over HEALPix data such as non-conservative zonal means, etc.\n",
    "\n",
    "### Related Documentation\n",
    "\n",
    "* [UXarray homepage](https://uxarray.readthedocs.io/en/latest/index.html)\n",
    "* [Working with HEALPix data - UXarray documentation](https://uxarray.readthedocs.io/en/latest/user-guide/healpix.html)\n",
    "* [UXarray overview - Unstructured Grids Visualization Cookbook](https://projectpythia.org/unstructured-grid-viz-cookbook/notebooks/02-intro-to-uxarray/overview.html)\n",
    "* [Data visualization with UXarray - Unstructured Grids Visualization Cookbook](https://projectpythia.org/unstructured-grid-viz-cookbook/notebooks/03-plotting-with-uxarray/data-viz.html)\n",
    "* [Cross-sections - UXarray documentation](https://uxarray.readthedocs.io/en/latest/user-guide/cross-sections.html)\n",
    "* [Intake Cookbook](https://projectpythia.org/intake-cookbook/README.html)\n",
    "\n",
    "### Prerequisites\n",
    "\n",
    "| Concepts | Importance | Notes |\n",
    "| --- | --- | --- |\n",
    "| [UXarray](https://uxarray.readthedocs.io/en/latest/index.html) | Necessary  | |\n",
    "| [HEALPix overview](00-healpix) | Necessary  | |\n",
    "\n",
    "**Time to learn**: 30 minutes\n",
    "\n",
    "-----"
   ]
  },
  {
   "cell_type": "code",
   "execution_count": null,
   "id": "0bf174a3-df82-42f3-8d59-f8dca2bf6fe7",
   "metadata": {},
   "outputs": [],
   "source": [
    "import cartopy.crs as ccrs\n",
    "import intake\n",
    "import uxarray as ux"
   ]
  },
  {
   "cell_type": "markdown",
   "id": "0b24ec57-f4c5-49e9-b1ec-0485280ec4d1",
   "metadata": {},
   "source": [
    "## Open data catalog"
   ]
  },
  {
   "cell_type": "markdown",
   "id": "391d8f2d512e48cc",
   "metadata": {},
   "source": [
    ":::{tip}\n",
    "\n",
    "We assume that you have already gone over the previous section, [UXarray for Basic HEALPix Statistics & Visualization](02-uxarray). If not and if you need to learn about data catalogs in general and the data we will use throughout this notebook, we recommend to check that section first.\n",
    "\n",
    ":::"
   ]
  },
  {
   "cell_type": "markdown",
   "id": "c47936f8301cb0bc",
   "metadata": {},
   "source": [
    "Let us open the online catalog from the [WCRP's Digital Earths Global Hackathon 2025 catalog repository](https://github.com/digital-earths-global-hackathon/catalog) using `intake` and read the output of the `ICON` run `d3hp003`, which is stored in the HEALPix format:"
   ]
  },
  {
   "cell_type": "code",
   "execution_count": null,
   "id": "74e859a623b3070d",
   "metadata": {},
   "outputs": [],
   "source": [
    "cat_url = \"https://digital-earths-global-hackathon.github.io/catalog/catalog.yaml\"\n",
    "cat = intake.open_catalog(cat_url)\n",
    "model_run = cat.online.icon_d3hp003"
   ]
  },
  {
   "cell_type": "markdown",
   "id": "fbb96c86-f7d7-4cd8-8647-f777f6476dcb",
   "metadata": {},
   "source": [
    "We can look into the highest possible resolution level allowed in this dataset at **zoom level = 9** as `Xarray.Dataset`:"
   ]
  },
  {
   "cell_type": "code",
   "execution_count": null,
   "id": "cf0b677d-6a51-4074-b0cb-a8ebde68bb94",
   "metadata": {},
   "outputs": [],
   "source": [
    "ds = model_run(zoom=9, time=\"P1D\").to_dask()"
   ]
  },
  {
   "cell_type": "markdown",
   "id": "ec58c1f7-5f48-43ab-ad4c-9218205bd74a",
   "metadata": {},
   "source": [
    "### Create UXarray Datasets from HEALPix\n",
    "\n",
    "We can use UXarray's `from_healpix` API as follows to open a HEALPix grid from `xarray.Dataset`:"
   ]
  },
  {
   "cell_type": "code",
   "execution_count": null,
   "id": "03858953-d3da-4284-a86d-2a92ffd92747",
   "metadata": {},
   "outputs": [],
   "source": [
    "uxds = ux.UxDataset.from_healpix(ds)\n",
    "uxds"
   ]
  },
  {
   "cell_type": "markdown",
   "id": "fc4f5b7e-ec51-41a5-9127-01606d458220",
   "metadata": {},
   "source": [
    "### Data variable of interest\n",
    "\n",
    "Then let us pick a variable, the surface temperature, from the dataset, which will give us an `uxarray.UxDataArray`:"
   ]
  },
  {
   "cell_type": "code",
   "execution_count": null,
   "id": "69264789-ce2c-4366-b4b5-0c52379216e5",
   "metadata": {},
   "outputs": [],
   "source": [
    "uxda = uxds[\"ts\"]\n",
    "uxda"
   ]
  },
  {
   "cell_type": "markdown",
   "id": "5b387252-9644-4a2f-b476-dc63906532b8",
   "metadata": {},
   "source": [
    "### Global mean and plot\n",
    "\n",
    "Computing the global surface temperature mean (at the first timestep) and also having a quick plot of it would be a good idea to have as references to compare the upcoming analyses & visualizations to them:"
   ]
  },
  {
   "cell_type": "code",
   "execution_count": null,
   "id": "a8996586-39bc-42e0-8882-ad028a9b56f4",
   "metadata": {},
   "outputs": [],
   "source": [
    "print(\n",
    "    \"Global surface temperature average on \", uxda.time[0].values, \": \", uxda.isel(time=0).mean().values, \" K\"\n",
    ")"
   ]
  },
  {
   "cell_type": "code",
   "execution_count": null,
   "id": "107527b6-4c48-45bc-be0d-e6d3200ea465",
   "metadata": {},
   "outputs": [],
   "source": [
    "%%time\n",
    "\n",
    "projection = ccrs.Robinson()\n",
    "\n",
    "uxda.isel(time=0).plot(\n",
    "    projection=projection,\n",
    "    cmap=\"inferno\",\n",
    "    features=[\"borders\", \"coastline\"],\n",
    "    title=\"Global surface temperature (Polygon raster)\",\n",
    "    width=700,\n",
    ")"
   ]
  },
  {
   "cell_type": "markdown",
   "id": "b3bb578d276c1ed8",
   "metadata": {},
   "source": [
    "## Rasterized point plots\n",
    "\n",
    "When working with a higher-resolution dataset at a global scale, it's not always practical to render each cell as a polygon. Instead, we can rasterize the center of each pixel."
   ]
  },
  {
   "cell_type": "code",
   "execution_count": null,
   "id": "127765dd84c26129",
   "metadata": {},
   "outputs": [],
   "source": [
    "%%time\n",
    "projection = ccrs.Robinson()\n",
    "\n",
    "# Controls the size of each pixel (smaller value leads to larger pixels)\n",
    "pixel_ratio = 0.5\n",
    "\n",
    "uxda.isel(time=0).plot.points(\n",
    "    projection=projection,\n",
    "    rasterize=True,\n",
    "    dynamic=False,\n",
    "    width=1000,\n",
    "    height=500,\n",
    "    pixel_ratio=pixel_ratio,\n",
    "    cmap=\"inferno\",\n",
    "    title=f\"Global surface temperature (Point raster), pixel_ratio={pixel_ratio}\",\n",
    ")"
   ]
  },
  {
   "cell_type": "markdown",
   "id": "460c6d0212f21b3e",
   "metadata": {},
   "source": [
    "If we decrease the size of each pixel (by setting the pixel ratio to a higher value), we can start to see missing values, which is due to a lower density of points near the poles, leading to some pixels not containing any of our original points.\n",
    "\n",
    "Because of this, it's useful to try a few `pixel_ratio` values and see which one works best for your given resolution."
   ]
  },
  {
   "cell_type": "code",
   "execution_count": null,
   "id": "5296c1c95b989239",
   "metadata": {},
   "outputs": [],
   "source": [
    "projection = ccrs.Robinson()\n",
    "\n",
    "# Controls the size of each pixel (smaller value leads to larger pixels)\n",
    "pixel_ratio = 2.0\n",
    "\n",
    "uxda.isel(time=0).plot.points(\n",
    "    projection=projection,\n",
    "    rasterize=True,\n",
    "    dynamic=False,\n",
    "    width=1000,\n",
    "    height=500,\n",
    "    pixel_ratio=pixel_ratio,\n",
    "    cmap=\"inferno\",\n",
    "    title=f\"Global surface temperature (Point raster) with a bad pixel size selection, pixel_ratio={pixel_ratio}\",\n",
    ")"
   ]
  },
  {
   "cell_type": "markdown",
   "id": "54b47526-b0b5-4425-b4f9-bb18de792700",
   "metadata": {},
   "source": [
    "## Cross-sections\n",
    "\n",
    "We can look at constant latitude/longitude cross-sections of an `uxarray.UxDataArray`:"
   ]
  },
  {
   "cell_type": "code",
   "execution_count": null,
   "id": "9e629bfb-fac9-47ca-8d90-751b85ba81bc",
   "metadata": {},
   "outputs": [],
   "source": [
    "boulder_lat = 40.0190\n",
    "\n",
    "\n",
    "# With fine resolutions like zoom level of 9, it is visually hard to observe the cross-sections,\n",
    "# so we will use a zoom level of 4 for a better visualization\n",
    "uxda_coarse = ux.UxDataset.from_healpix(model_run(zoom=4, time=\"P1D\").to_dask())[\"ts\"]\n",
    "uxda_coarse.uxgrid.face_node_connectivity\n",
    "\n",
    "uxda_lat = uxda_coarse.cross_section.constant_latitude(boulder_lat)\n",
    "uxda_lat"
   ]
  },
  {
   "cell_type": "code",
   "execution_count": null,
   "id": "d4a54a76-16ce-4b56-ba51-3780d38d6577",
   "metadata": {},
   "outputs": [],
   "source": [
    "import geoviews.feature as gf\n",
    "\n",
    "uxda_lat.isel(time=0).plot(\n",
    "    rasterize=False,\n",
    "    projection=projection,\n",
    "    global_extent=True,\n",
    "    cmap=\"inferno\",\n",
    "    clim=(220, 310),\n",
    "    features=[\"coastline\"],\n",
    "    title=f\"Global surface temperature cross-section at {boulder_lat} degrees latitude\",\n",
    "    width=700,\n",
    ") * gf.grid(projection=projection)"
   ]
  },
  {
   "cell_type": "markdown",
   "id": "e00ec8d145094ce1",
   "metadata": {},
   "source": [
    "Let's also look at the mean of the cross-section:"
   ]
  },
  {
   "cell_type": "code",
   "execution_count": null,
   "id": "d250d744-d72e-46c9-bd79-7d127567159c",
   "metadata": {},
   "outputs": [],
   "source": [
    "print(\n",
    "    f\"Mean at {boulder_lat} degrees lat (Boulder, CO, USA): {uxda_lat.mean().values} K\"\n",
    ")"
   ]
  },
  {
   "cell_type": "markdown",
   "id": "9b5a520a-897f-43ad-936b-031ee5fa1d27",
   "metadata": {},
   "source": [
    "### Latitude interval"
   ]
  },
  {
   "cell_type": "code",
   "execution_count": null,
   "id": "106b2c58-2d57-49d9-8fba-27e7b51cfe52",
   "metadata": {},
   "outputs": [],
   "source": [
    "uxda_lat_interval = uxda_coarse.cross_section.constant_latitude_interval(\n",
    "    [boulder_lat - 15, boulder_lat + 15]\n",
    ")"
   ]
  },
  {
   "cell_type": "code",
   "execution_count": null,
   "id": "81caec63-6fb4-4b68-b490-088c19512739",
   "metadata": {},
   "outputs": [],
   "source": [
    "uxda_lat_interval.isel(time=0).plot(\n",
    "    rasterize=False,\n",
    "    projection=projection,\n",
    "    global_extent=True,\n",
    "    cmap=\"inferno\",\n",
    "    clim=(220, 310),\n",
    "    features=[\"coastline\"],\n",
    "    title=f\"Global surface temperature cross-section at the latitude interval [{boulder_lat-5},{boulder_lat+5}] degrees\",\n",
    "    width=700,\n",
    ") * gf.grid(projection=projection)"
   ]
  },
  {
   "cell_type": "code",
   "execution_count": null,
   "id": "0ad2057b-615f-476e-8342-dd12b2c0c277",
   "metadata": {},
   "outputs": [],
   "source": [
    "print(\n",
    "    f\"Mean at the latitude interval of [{boulder_lat-5},{boulder_lat+5}] degrees (-/+15 degrees Boulder, CO, USA): {uxda_lat_interval.mean().values} K\"\n",
    ")"
   ]
  },
  {
   "cell_type": "markdown",
   "id": "65cd1ec8-6595-41b8-a331-07425ce26b1f",
   "metadata": {},
   "source": [
    "## Non-conservative zonal mean"
   ]
  },
  {
   "cell_type": "markdown",
   "id": "53b35321-5d94-403e-bfc6-0119144a4a0d",
   "metadata": {},
   "source": [
    "Calculating the zonal mean is easy by providing the latitude range between -90 and 90 degrees with a step size in degrees:"
   ]
  },
  {
   "cell_type": "code",
   "execution_count": null,
   "id": "8612038880bec3ea",
   "metadata": {},
   "outputs": [],
   "source": [
    "%%time\n",
    "zonal_mean_ts = uxda.isel(time=0).zonal_mean(lat=(-90, 90, 5))"
   ]
  },
  {
   "cell_type": "code",
   "execution_count": null,
   "id": "b733bb34c65e0289",
   "metadata": {},
   "outputs": [],
   "source": [
    "(\n",
    "    uxda.isel(time=0).plot(\n",
    "        cmap=\"inferno\",\n",
    "        # periodic_elements=\"split\",\n",
    "        height=300,\n",
    "        width=600,\n",
    "        colorbar=False,\n",
    "        ylim=(-90, 90),\n",
    "    )\n",
    "    + zonal_mean_ts.plot.line(\n",
    "        x=\"ts_zonal_mean\",\n",
    "        y=\"latitudes\",\n",
    "        height=300,\n",
    "        width=180,\n",
    "        ylabel=\"\",\n",
    "        ylim=(-90, 90),\n",
    "        xlim=(220, 310),\n",
    "        # xticks=[220, 250, 280, 310],\n",
    "        yticks=[-90, -45, 0, 45, 90],\n",
    "        grid=True,\n",
    "    )\n",
    ").opts(title=\"Temperature and its Zonal means at every 5 degree latitude\")"
   ]
  },
  {
   "cell_type": "markdown",
   "id": "83257915-956a-46f2-b0a8-385bd207e9a9",
   "metadata": {},
   "source": [
    "## Remapping"
   ]
  },
  {
   "cell_type": "markdown",
   "id": "de4d8a20-f62d-47d8-9734-4409acd5ccb4",
   "metadata": {},
   "source": [
    "Now, we will be looking into one of many possible use cases where remapping would be helpful. \n",
    "\n",
    "The data set we have been using in this section so far belongs to the newer ICON simulation, `icon_d3hp003`, while there is an older simulation as well, `icon_ngc4008`, in the same catalog. They are both stored in the HEALPix format in this case, but for most of the model intercomparison workflows in general, they might not be even so. UXarray would still be helpful to remap of those model outputs to other and then make comparisons since it can support several most commonly used unstructrued grid formats. \n",
    "\n",
    "In this particular case, we still have some use for UXarray's remapping such that the newer simulation has the **zoom = 9** as the maximum available resolution, while the older one has **zoom = 10** available. Unfortunately at **zoom = 10** though, there is no actual data simulated for `ts`, the surface temperature. If there was, we could remap the newer simulation's output to that one, so we could have both of them at **zoom = 10**, and then we could look into the difference between them for instance. Let's pretend the highest zoom-level in the newer data is **zoom = 8** then, and remap that one into the older simulation's grid.\n",
    "\n",
    "Let's start with opening the older simulation run first:"
   ]
  },
  {
   "cell_type": "code",
   "execution_count": null,
   "id": "d29f7751-e3d2-4415-8bf4-a768b9f3b514",
   "metadata": {},
   "outputs": [],
   "source": [
    "model_run_older = cat.online.icon_ngc4008\n",
    "\n",
    "ds_older = model_run_older(zoom=8, time=\"P1D\").to_dask()\n",
    "\n",
    "uxds_older = ux.UxDataset.from_healpix(ds_older)\n",
    "uxds_older"
   ]
  },
  {
   "cell_type": "markdown",
   "id": "34432ed7-0bd6-47b0-831f-74f2eea5f7ef",
   "metadata": {},
   "source": [
    "### Plot the older simulation for reference\n",
    "\n",
    "Let's have a quick look at how the global surface temperature looks like in the older simulation's output: "
   ]
  },
  {
   "cell_type": "code",
   "execution_count": null,
   "id": "6bacfcfa-2462-4968-bb00-6340b1386d75",
   "metadata": {},
   "outputs": [],
   "source": [
    "uxds_older[\"ts\"].isel(time=0).plot(\n",
    "    projection=projection,\n",
    "    cmap=\"inferno\",\n",
    "    features=[\"borders\", \"coastline\"],\n",
    "    title=\"Global surface temperature (zoom = 8) - Older Simulation\",\n",
    "    width=700,\n",
    ")"
   ]
  },
  {
   "cell_type": "markdown",
   "id": "8874ce080232841c",
   "metadata": {},
   "source": [
    "Visually there does not seem to be a huge difference between this and the newer simulation's output we had plotted in the very beginning.\n"
   ]
  },
  {
   "cell_type": "markdown",
   "id": "8f3bb9ca-cfb8-4b8b-b90e-511dc676af03",
   "metadata": {},
   "source": [
    "### Remap the old simulation output to the newer one\n",
    "\n",
    "Let's start remapping! For that, we will use the `uxgrid` of the newer simulation output as the destination grid and use an inverse distance weighted implementation:"
   ]
  },
  {
   "cell_type": "code",
   "execution_count": null,
   "id": "8068e7d1a9492e11",
   "metadata": {},
   "outputs": [],
   "source": [
    "%%time\n",
    "uxda_older_remapped = uxds_older[\"ts\"].isel(time=0).remap.inverse_distance_weighted(\n",
    "    uxds.uxgrid, k=3, remap_to=\"face centers\", coord_type=\"cartesian\"\n",
    ")"
   ]
  },
  {
   "cell_type": "markdown",
   "id": "0619470c-15a2-491d-ae62-9099d678d237",
   "metadata": {},
   "source": [
    "### Plot the difference between the old and newer simulations\n",
    "\n",
    "Now that we have the older and newer model outputs on the same grid, let's look at the surface temperature differences between the two:"
   ]
  },
  {
   "cell_type": "code",
   "execution_count": null,
   "id": "aaea6d7c-3b29-402d-840b-27ef628b0123",
   "metadata": {},
   "outputs": [],
   "source": [
    "(uxda.isel(time=0) - uxda_older_remapped).plot(\n",
    "    projection=projection,\n",
    "    cmap=\"RdBu_r\",\n",
    "    features=[\"borders\", \"coastline\"],\n",
    "    title=\"Global surface temperature difference between older and newer simulations (zoom = 9)\",\n",
    "    clim=(-25,25),\n",
    "    width=700,\n",
    ")"
   ]
  }
 ],
 "metadata": {
  "kernelspec": {
   "display_name": "Python 3 (ipykernel)",
   "language": "python",
   "name": "python3"
  },
  "language_info": {
   "codemirror_mode": {
    "name": "ipython",
    "version": 3
   },
   "file_extension": ".py",
   "mimetype": "text/x-python",
   "name": "python",
   "nbconvert_exporter": "python",
   "pygments_lexer": "ipython3",
   "version": "3.10.13"
  }
 },
 "nbformat": 4,
 "nbformat_minor": 5
}
